{
  "nbformat": 4,
  "nbformat_minor": 0,
  "metadata": {
    "colab": {
      "name": "Copy of Curso Introdutório Python 27-05-2020",
      "provenance": [],
      "collapsed_sections": [],
      "mount_file_id": "1Vb-sg18USAJRSjVDW8LU9z-gOkpDexPs",
      "authorship_tag": "ABX9TyN8QHNogOP2JlS5rXMQBQxq",
      "include_colab_link": true
    },
    "kernelspec": {
      "name": "python3",
      "display_name": "Python 3"
    }
  },
  "cells": [
    {
      "cell_type": "markdown",
      "metadata": {
        "id": "view-in-github",
        "colab_type": "text"
      },
      "source": [
        "<a href=\"https://colab.research.google.com/github/avellar1975/python/blob/master/Curso_Introdut%C3%B3rio_Python_27_05_2020_atualizado.ipynb\" target=\"_parent\"><img src=\"https://colab.research.google.com/assets/colab-badge.svg\" alt=\"Open In Colab\"/></a>"
      ]
    },
    {
      "cell_type": "markdown",
      "metadata": {
        "id": "zyhtTrcC8fZG",
        "colab_type": "text"
      },
      "source": [
        "# 1. O que é um programa?"
      ]
    },
    {
      "cell_type": "markdown",
      "metadata": {
        "id": "-PWZ5LMS8qjd",
        "colab_type": "text"
      },
      "source": [
        "Um **programa** é uma sequência de instruções que especifica como executar uma operação de computação. A operação de computação pode ser algo matemático, como solucionar um sistema de equações ou encontrar as raízes de um polinômio, mas também pode ser uma operação de computação simbólica, como a busca e a substituição de textos em um documento; ou algo gráfico, como o processamento de uma imagem ou a reprodução de um vídeo.\n",
        "\n",
        "Os detalhes parecem diferentes em linguagens diferentes, mas algumas instruções básicas aparecem em quase todas as linguagens:\n",
        "\n",
        "* **entrada**\n",
        " - Receber dados do teclado, de um arquivo, da rede ou de algum outro dispositivo.\n",
        "* **saída**\n",
        "  - Exibir dados na tela, salvá-los em um arquivo, enviá-los pela rede etc.\n",
        "* **matemática**\n",
        "  - Executar operações matemáticas básicas como adição e multiplicação.\n",
        "* **execução condicional**\n",
        "  - Verificar a existência de certas condições e executar o código adequado.\n",
        "* **repetição**\n",
        " - Executar várias vezes alguma ação, normalmente com algumas variações.\n",
        "  \n",
        "Acredite ou não, isto é basicamente tudo o que é preciso saber. Cada programa que você já usou, complicado ou não, é composto de instruções muito parecidas com essas. Podemos então chegar à conclusão de que programar é o processo de quebrar uma tarefa grande e complexa em subtarefas cada vez menores, até que estas sejam simples o suficiente para serem executadas por uma dessas instruções básicas."
      ]
    },
    {
      "cell_type": "markdown",
      "metadata": {
        "id": "OlVe5HmVHd1c",
        "colab_type": "text"
      },
      "source": [
        "![Diagrama](https://github.com/avellar1975/python/blob/master/iniciante/diagrama_01.png?raw=true)"
      ]
    },
    {
      "cell_type": "markdown",
      "metadata": {
        "id": "3MnQeI1HLdZY",
        "colab_type": "text"
      },
      "source": [
        "![Diagrama expandido](https://github.com/avellar1975/python/blob/master/iniciante/diagrama_02.png?raw=true)"
      ]
    },
    {
      "cell_type": "markdown",
      "metadata": {
        "id": "fLwp61Ced2X3",
        "colab_type": "text"
      },
      "source": [
        "Receita de bolo"
      ]
    },
    {
      "cell_type": "code",
      "metadata": {
        "id": "0-lVWgIRuhUY",
        "colab_type": "code",
        "outputId": "798522e3-5e8f-4a93-a15c-d26181cbf637",
        "colab": {
          "base_uri": "https://localhost:8080/",
          "height": 158
        }
      },
      "source": [
        "\"\"\"\n",
        "Programa Conceitual.\n",
        "\n",
        "Autor: Evandro Avellar\n",
        "\"\"\"\n",
        "# -- Entrada -------------------------------------------------------------------\n",
        "# Pode ser digitado, leitura de um arquivo batch, interface on-line...\n",
        "num_01 = int(input('Digite um número: '))\n",
        "num_02 = int(input('Digite outro número: '))\n",
        "\n",
        "\n",
        "# -- Processamento -------------------------------------------------------------\n",
        "# ---- Operações matemática ------------\n",
        "\n",
        "produto = num_01 * num_02\n",
        "\n",
        "# ---- Execução Condicional ------------\n",
        "\n",
        "if produto % 2 == 0:   # % - Resto da divisão\n",
        "  par_impar = 'par'\n",
        "else:\n",
        "  par_impar = 'impar'\n",
        "\n",
        "# ---- Repetição -----------------------\n",
        "# Repetição\n",
        "multiplos = [] # Uma lista vazia\n",
        "\n",
        "for i in range(11):\n",
        "  multiplos.append(i * produto)\n",
        "\n",
        "# -- Saída --------------------------------------------------------------------\n",
        "# Pode ser um arquivo, uma saída na tela, uma interface on-line ...\n",
        "print()\n",
        "print('*'*79)\n",
        "print('Saída:')\n",
        "print(f'Números escolhidos: {num_01} e {num_02}.')\n",
        "print(f'O produtos dos números foi {produto}, que é um número {par_impar}.')\n",
        "print(f'Lista de múltiplos de {produto}: {multiplos}.')"
      ],
      "execution_count": 0,
      "outputs": [
        {
          "output_type": "stream",
          "text": [
            "Digite um número: 2\n",
            "Digite outro número: 3\n",
            "\n",
            "*******************************************************************************\n",
            "Saída:\n",
            "Números escolhidos: 2 e 3.\n",
            "O produtos dos números foi 6, que é um número par.\n",
            "Lista de múltiplos de 6: [0, 6, 12, 18, 24, 30, 36, 42, 48, 54, 60].\n"
          ],
          "name": "stdout"
        }
      ]
    },
    {
      "cell_type": "markdown",
      "metadata": {
        "id": "06Kp36CYL2rz",
        "colab_type": "text"
      },
      "source": [
        "# 2. Python\n",
        "\n",
        "Python é uma linguagem de programação de **alto nível**, **interpretada**, **de script**, **imperativa**, **orientada a objetos**, **funcional** (e por isso multi-paradigma), de **tipagem dinâmica e forte**. Foi lançada por Guido van Rossum em 1991.Atualmente possui um modelo de desenvolvimento comunitário, aberto e gerenciado pela organização sem fins lucrativos Python Software Foundation."
      ]
    },
    {
      "cell_type": "markdown",
      "metadata": {
        "id": "HyQ8nowBvUrL",
        "colab_type": "text"
      },
      "source": [
        "## 2.1 Linguagem de Alto Nível - Nível de abstração\n",
        "(mais distantes da linguagem de máquina)"
      ]
    },
    {
      "cell_type": "markdown",
      "metadata": {
        "id": "q2c4F-pIwBvg",
        "colab_type": "text"
      },
      "source": [
        "### 2.1.1 Assembly (baixo nível)\n",
        "(mais próxima de linguagem de máquina)\n",
        "\n",
        "```\n",
        "section     .text\n",
        "global      _start\n",
        "\n",
        "_start:\n",
        "\n",
        "    mov     edx,len\n",
        "    mov     ecx,msg\n",
        "    mov     ebx,1\n",
        "    mov     eax,4\n",
        "    int     0x80\n",
        "\n",
        "    mov     eax,1\n",
        "    int     0x80\n",
        "\n",
        "section     .data\n",
        "\n",
        "msg     db  'Olá mundo!',0xa \n",
        "len     equ $ - msg\n",
        "```\n",
        "\n"
      ]
    },
    {
      "cell_type": "markdown",
      "metadata": {
        "id": "lYp3LAsLxGZh",
        "colab_type": "text"
      },
      "source": [
        "### Python - Alto nível"
      ]
    },
    {
      "cell_type": "code",
      "metadata": {
        "id": "DZt2ENGEwaQF",
        "colab_type": "code",
        "outputId": "53cddd73-adbe-4313-fb6c-d51d7b0657fe",
        "colab": {
          "base_uri": "https://localhost:8080/",
          "height": 34
        }
      },
      "source": [
        "print('Olá mundo!')"
      ],
      "execution_count": 0,
      "outputs": [
        {
          "output_type": "stream",
          "text": [
            "Olá mundo!\n"
          ],
          "name": "stdout"
        }
      ]
    },
    {
      "cell_type": "markdown",
      "metadata": {
        "id": "eCjqjy4XJ3Br",
        "colab_type": "text"
      },
      "source": [
        "## 2.2 Compilado x Interpretado"
      ]
    },
    {
      "cell_type": "markdown",
      "metadata": {
        "id": "tonHm0Ig2wDF",
        "colab_type": "text"
      },
      "source": [
        "### Aplicações que rodam interpretadas precisam do código fonte enquanto que as compiladas só precisam do código alvo para funcionar.\n",
        "Assunto polêmico"
      ]
    },
    {
      "cell_type": "markdown",
      "metadata": {
        "id": "JimcMOSfIywn",
        "colab_type": "text"
      },
      "source": [
        "## 2.3 Multiparadigma"
      ]
    },
    {
      "cell_type": "markdown",
      "metadata": {
        "id": "HxfFBt_8yvqM",
        "colab_type": "text"
      },
      "source": [
        "![Linguagens](https://www.robertonovaes.com.br/wp-content/uploads/2019/04/languagesptable.png)"
      ]
    },
    {
      "cell_type": "markdown",
      "metadata": {
        "id": "uBFdK3BZiE2j",
        "colab_type": "text"
      },
      "source": [
        "## 2.4 Tipagem dinâmica\n",
        "Significa que o próprio interpretador do Python infere o tipo dos dados que uma variável recebe, sem a necessidade que você, o usuário da linguagem diga de que tipo determinada variável é. Exemplo de um script Python:\n",
        "\n"
      ]
    },
    {
      "cell_type": "markdown",
      "metadata": {
        "id": "HVRSA7ywi5F4",
        "colab_type": "text"
      },
      "source": [
        "Ambos os programas acima fazem a mesma coisa, somam 10 e 20 e mostram um resultado na tela, a diferença é que em C os tipos são estáticos então é necessário que o programador diga quais os tipos que i e j receberão como valores aceitáveis."
      ]
    },
    {
      "cell_type": "code",
      "metadata": {
        "id": "7pbcHJ89iOZ8",
        "colab_type": "code",
        "outputId": "377d8661-8a63-47da-ccdd-f9e2b2198880",
        "colab": {
          "base_uri": "https://localhost:8080/",
          "height": 34
        }
      },
      "source": [
        "i, j = 10.5 , 20.5\n",
        "print('resultado é: ', i + j)"
      ],
      "execution_count": 0,
      "outputs": [
        {
          "output_type": "stream",
          "text": [
            "resultado é:  31.0\n"
          ],
          "name": "stdout"
        }
      ]
    },
    {
      "cell_type": "code",
      "metadata": {
        "id": "zvVEswICH6zF",
        "colab_type": "code",
        "outputId": "f102b693-9b08-4007-f1d9-9074f2ee8e72",
        "colab": {
          "base_uri": "https://localhost:8080/",
          "height": 34
        }
      },
      "source": [
        "type(i)"
      ],
      "execution_count": 0,
      "outputs": [
        {
          "output_type": "execute_result",
          "data": {
            "text/plain": [
              "float"
            ]
          },
          "metadata": {
            "tags": []
          },
          "execution_count": 8
        }
      ]
    },
    {
      "cell_type": "markdown",
      "metadata": {
        "id": "INnPANMxileG",
        "colab_type": "text"
      },
      "source": [
        "Vamos melhorar esta explicação com um exemplo de tipagem estática, a linguagem C. A linguagem C é estaticamente tipada, isso significa que deveremos sempre determinar qual o tipo de dados uma variável irá receber, exemplo de um programa em C:"
      ]
    },
    {
      "cell_type": "markdown",
      "metadata": {
        "id": "DFTBl70XixM4",
        "colab_type": "text"
      },
      "source": [
        "\n",
        "\n",
        "```\n",
        "#include <stdio.h>\n",
        "\n",
        "int main(){\n",
        "   int i = 10, j = 20;\n",
        "   printf(\"O resultado é: %d\\n\", i+j);\n",
        "}\n",
        "```\n",
        "\n"
      ]
    },
    {
      "cell_type": "markdown",
      "metadata": {
        "id": "ivCFBLuwjhtk",
        "colab_type": "text"
      },
      "source": [
        "## 2.5 Tipagem Forte"
      ]
    },
    {
      "cell_type": "markdown",
      "metadata": {
        "id": "4dfi2qluk9n0",
        "colab_type": "text"
      },
      "source": [
        " Tipagem forte significa que o interpretador do Python avalia as expressões (evaluate) e não faz coerções automáticas entre tipos não compatíveis (conversões de valores), ou seja:"
      ]
    },
    {
      "cell_type": "code",
      "metadata": {
        "id": "aYEtaThSipd3",
        "colab_type": "code",
        "colab": {}
      },
      "source": [
        "i = 'Pedro'\n",
        "j = 6.0\n",
        "i + j"
      ],
      "execution_count": 0,
      "outputs": []
    },
    {
      "cell_type": "markdown",
      "metadata": {
        "id": "FjciYmkFlQcb",
        "colab_type": "text"
      },
      "source": [
        "Agora assim como temos linguagens com tipagem forte, temos também linguagens com **tipagem fraca** como por exemplo Javascript, vejamos o código Javascript a seguir:"
      ]
    },
    {
      "cell_type": "markdown",
      "metadata": {
        "id": "T4-6KGkeo71X",
        "colab_type": "text"
      },
      "source": [
        "![Java Script](https://github.com/avellar1975/python/blob/master/iniciante/note.jpg?raw=true)\n"
      ]
    },
    {
      "cell_type": "markdown",
      "metadata": {
        "id": "CWxvg8Mjqhdb",
        "colab_type": "text"
      },
      "source": [
        "Isso prova que o Javascript diferente do Python converte (faz coerção de tipos) ao executar operações de forma automática, isso faz com que seja uma linguagem de tipagem fraca."
      ]
    },
    {
      "cell_type": "markdown",
      "metadata": {
        "id": "sGRt2cJC3B6P",
        "colab_type": "text"
      },
      "source": [
        "## 2.6 Qual versão usar?"
      ]
    },
    {
      "cell_type": "code",
      "metadata": {
        "id": "3KYhd9zTMPnv",
        "colab_type": "code",
        "outputId": "77119a2f-d90c-430d-bd11-97b213c66e4a",
        "colab": {
          "base_uri": "https://localhost:8080/",
          "height": 34
        }
      },
      "source": [
        "!python --version"
      ],
      "execution_count": 0,
      "outputs": [
        {
          "output_type": "stream",
          "text": [
            "Python 3.6.9\n"
          ],
          "name": "stdout"
        }
      ]
    },
    {
      "cell_type": "markdown",
      "metadata": {
        "id": "14ehc_WJBjyO",
        "colab_type": "text"
      },
      "source": [
        "## 2.7 Ferramentas de Trabalho"
      ]
    },
    {
      "cell_type": "markdown",
      "metadata": {
        "id": "SA2xpEtdogL1",
        "colab_type": "text"
      },
      "source": [
        "- Editores de texto: \n",
        " - Atom, Notepad++, etc\n",
        "- IDEs( é um editor de texto com funções extras para programação):\n",
        " - PyCharm, Visual Studio Code, Eclipse, IDLE, etc\n",
        "- Por meio do terminal\n",
        "- Online (sem instalar nada)\n",
        " - Colab Google\n"
      ]
    },
    {
      "cell_type": "markdown",
      "metadata": {
        "id": "Lk2Vh1SwIoJW",
        "colab_type": "text"
      },
      "source": [
        "# 3. Mãos a obra"
      ]
    },
    {
      "cell_type": "code",
      "metadata": {
        "id": "zNIKXZ5T9VeC",
        "colab_type": "code",
        "colab": {}
      },
      "source": [
        "# Iniciar algumas demonstrações simples\n",
        "# operadores aritméticas, parenteses, potencia\n",
        "# operadores relacionais (9 ** 2 == 80 + 1)\n"
      ],
      "execution_count": 0,
      "outputs": []
    },
    {
      "cell_type": "code",
      "metadata": {
        "id": "vJ-M43Mz38Ip",
        "colab_type": "code",
        "colab": {}
      },
      "source": [
        ""
      ],
      "execution_count": 0,
      "outputs": []
    },
    {
      "cell_type": "markdown",
      "metadata": {
        "id": "39dKEaPMp1yr",
        "colab_type": "text"
      },
      "source": [
        "# Duas funções para começar"
      ]
    },
    {
      "cell_type": "markdown",
      "metadata": {
        "id": "x6RaBWfM0FRp",
        "colab_type": "text"
      },
      "source": [
        "## Função print( )"
      ]
    },
    {
      "cell_type": "code",
      "metadata": {
        "id": "bv2khsldpenj",
        "colab_type": "code",
        "colab": {}
      },
      "source": [
        ""
      ],
      "execution_count": 0,
      "outputs": []
    },
    {
      "cell_type": "code",
      "metadata": {
        "id": "mcFVjG3Np_4Z",
        "colab_type": "code",
        "colab": {}
      },
      "source": [
        ""
      ],
      "execution_count": 0,
      "outputs": []
    },
    {
      "cell_type": "markdown",
      "metadata": {
        "id": "fVeqXz7AzsNU",
        "colab_type": "text"
      },
      "source": [
        "### Exercício 1\n",
        " - Faça um programa que escreva 'Olá Mundo!' na tela"
      ]
    },
    {
      "cell_type": "code",
      "metadata": {
        "id": "GFn-BXjus3Hg",
        "colab_type": "code",
        "colab": {}
      },
      "source": [
        "# Escrever 'Olá mundo!' na tela"
      ],
      "execution_count": 0,
      "outputs": []
    },
    {
      "cell_type": "markdown",
      "metadata": {
        "id": "2a5EGr6M0bPe",
        "colab_type": "text"
      },
      "source": [
        "## Função input( )"
      ]
    },
    {
      "cell_type": "code",
      "metadata": {
        "id": "14jXu8SeqFf8",
        "colab_type": "code",
        "colab": {}
      },
      "source": [
        ""
      ],
      "execution_count": 0,
      "outputs": []
    },
    {
      "cell_type": "code",
      "metadata": {
        "id": "JjQS2XwprxiM",
        "colab_type": "code",
        "colab": {}
      },
      "source": [
        "# a variável dá um nome ao valor que será digitado é uma etiqueta"
      ],
      "execution_count": 0,
      "outputs": []
    },
    {
      "cell_type": "code",
      "metadata": {
        "id": "toZAeOI9sfGR",
        "colab_type": "code",
        "colab": {}
      },
      "source": [
        ""
      ],
      "execution_count": 0,
      "outputs": []
    },
    {
      "cell_type": "code",
      "metadata": {
        "id": "IHY8_yLVs1Zd",
        "colab_type": "code",
        "colab": {}
      },
      "source": [
        ""
      ],
      "execution_count": 0,
      "outputs": []
    },
    {
      "cell_type": "markdown",
      "metadata": {
        "id": "e_j5NpVBuKKg",
        "colab_type": "text"
      },
      "source": [
        "#### Exercício 2\n",
        "- Escreva um programa que lê o nome e idade e escreve na tela:\n"
      ]
    },
    {
      "cell_type": "markdown",
      "metadata": {
        "id": "mFihAaw4u0BL",
        "colab_type": "text"
      },
      "source": [
        "\n",
        "```\n",
        "\"Bem vindo <nome> fico feliz em saber que tem <idade> anos.\n",
        "```\n",
        "\n"
      ]
    },
    {
      "cell_type": "code",
      "metadata": {
        "id": "NJgE_U--0xJy",
        "colab_type": "code",
        "colab": {}
      },
      "source": [
        ""
      ],
      "execution_count": 0,
      "outputs": []
    },
    {
      "cell_type": "markdown",
      "metadata": {
        "id": "o--ldYszovWw",
        "colab_type": "text"
      },
      "source": [
        "# Variáveis não são caixas"
      ]
    },
    {
      "cell_type": "markdown",
      "metadata": {
        "id": "-eg45JMswRtu",
        "colab_type": "text"
      },
      "source": [
        "Variáveis são rótulos (ou post-its) que identificam objetos. Objetos existem antes das variáveis.\n",
        "\n",
        "Uma variável é um nome que se refere a um valor. Um comando de atribuição ( = ) cria uma nova variável do lado direito e lhe dá um valor.\n",
        "\n",
        "Cada nome de variáveis é uma letra ou o símbolo '\\_' (underscore) seguida de letras, números e '_'. \n",
        "\n",
        "Atenção, maiúscula é diferente de minúscula. Assim <i>maior</i> e <i>Maior</i> são duas variáveis diferentes."
      ]
    },
    {
      "cell_type": "code",
      "metadata": {
        "id": "LGJvq4xnun-Q",
        "colab_type": "code",
        "colab": {}
      },
      "source": [
        ""
      ],
      "execution_count": 0,
      "outputs": []
    },
    {
      "cell_type": "code",
      "metadata": {
        "id": "Pf7nj-7hI_ru",
        "colab_type": "code",
        "colab": {}
      },
      "source": [
        ""
      ],
      "execution_count": 0,
      "outputs": []
    },
    {
      "cell_type": "code",
      "metadata": {
        "id": "Hyx2gSWZJK0I",
        "colab_type": "code",
        "colab": {}
      },
      "source": [
        ""
      ],
      "execution_count": 0,
      "outputs": []
    },
    {
      "cell_type": "code",
      "metadata": {
        "id": "uih-ZhSBJUPd",
        "colab_type": "code",
        "colab": {}
      },
      "source": [
        ""
      ],
      "execution_count": 0,
      "outputs": []
    },
    {
      "cell_type": "code",
      "metadata": {
        "id": "20yuCsfx08e4",
        "colab_type": "code",
        "colab": {}
      },
      "source": [
        ""
      ],
      "execution_count": 0,
      "outputs": []
    },
    {
      "cell_type": "code",
      "metadata": {
        "id": "ADEQau7czC3h",
        "colab_type": "code",
        "colab": {}
      },
      "source": [
        ""
      ],
      "execution_count": 0,
      "outputs": []
    },
    {
      "cell_type": "code",
      "metadata": {
        "id": "T2_qvfjJzJQ2",
        "colab_type": "code",
        "colab": {}
      },
      "source": [
        ""
      ],
      "execution_count": 0,
      "outputs": []
    },
    {
      "cell_type": "code",
      "metadata": {
        "id": "v1Q3RikCzNL0",
        "colab_type": "code",
        "colab": {}
      },
      "source": [
        ""
      ],
      "execution_count": 0,
      "outputs": []
    },
    {
      "cell_type": "code",
      "metadata": {
        "id": "S0QuWfDY4TSR",
        "colab_type": "code",
        "colab": {}
      },
      "source": [
        ""
      ],
      "execution_count": 0,
      "outputs": []
    },
    {
      "cell_type": "code",
      "metadata": {
        "id": "V3Zx57r08TdM",
        "colab_type": "code",
        "colab": {}
      },
      "source": [
        ""
      ],
      "execution_count": 0,
      "outputs": []
    },
    {
      "cell_type": "markdown",
      "metadata": {
        "id": "cVxdQ8KBZ5z9",
        "colab_type": "text"
      },
      "source": [
        "**Tipos mutáveis vs. imutáveis - tópico avançado**\n",
        "\n",
        "*Os tipos internos do Python podem ser divididos em duas categorias principais – tipos mutáveis e imutáveis . Mutabilidade é apenas uma maneira sofisticada de especificar se um objeto pode ser modificado depois de ter sido declarado.*"
      ]
    },
    {
      "cell_type": "markdown",
      "metadata": {
        "id": "NyCEO5Mo3g3O",
        "colab_type": "text"
      },
      "source": [
        "# Tudo é objeto\n",
        "\n",
        "*O termo orientação a objetos significa organizar o mundo real como uma coleção de objetos que incorporam estrutura de dados e um conjunto de operações que manipulam estes dados.*"
      ]
    },
    {
      "cell_type": "code",
      "metadata": {
        "id": "aFYYfwNVdZsd",
        "colab_type": "code",
        "colab": {}
      },
      "source": [
        "#implementar a classe Pessoa"
      ],
      "execution_count": 0,
      "outputs": []
    },
    {
      "cell_type": "code",
      "metadata": {
        "id": "Hkc0AeaFebMn",
        "colab_type": "code",
        "colab": {}
      },
      "source": [
        "#instanciar a classe"
      ],
      "execution_count": 0,
      "outputs": []
    },
    {
      "cell_type": "code",
      "metadata": {
        "id": "n7kq4MqpejyN",
        "colab_type": "code",
        "colab": {}
      },
      "source": [
        "# atributos e métodos"
      ],
      "execution_count": 0,
      "outputs": []
    },
    {
      "cell_type": "code",
      "metadata": {
        "id": "XUxz6Flm4zVf",
        "colab_type": "code",
        "colab": {}
      },
      "source": [
        ""
      ],
      "execution_count": 0,
      "outputs": []
    },
    {
      "cell_type": "code",
      "metadata": {
        "id": "vHJtnN6C3j0h",
        "colab_type": "code",
        "colab": {}
      },
      "source": [
        ""
      ],
      "execution_count": 0,
      "outputs": []
    },
    {
      "cell_type": "code",
      "metadata": {
        "id": "mfNySy4S6_aZ",
        "colab_type": "code",
        "colab": {}
      },
      "source": [
        ""
      ],
      "execution_count": 0,
      "outputs": []
    },
    {
      "cell_type": "code",
      "metadata": {
        "id": "8squ4Mjb5OrY",
        "colab_type": "code",
        "colab": {}
      },
      "source": [
        ""
      ],
      "execution_count": 0,
      "outputs": []
    },
    {
      "cell_type": "code",
      "metadata": {
        "id": "FVovHdck5wj7",
        "colab_type": "code",
        "colab": {}
      },
      "source": [
        ""
      ],
      "execution_count": 0,
      "outputs": []
    },
    {
      "cell_type": "code",
      "metadata": {
        "id": "SlGGzn_47LyM",
        "colab_type": "code",
        "colab": {}
      },
      "source": [
        ""
      ],
      "execution_count": 0,
      "outputs": []
    },
    {
      "cell_type": "code",
      "metadata": {
        "id": "KnC8TjwO6SBI",
        "colab_type": "code",
        "colab": {}
      },
      "source": [
        ""
      ],
      "execution_count": 0,
      "outputs": []
    },
    {
      "cell_type": "code",
      "metadata": {
        "id": "87T2Uk_R6U8o",
        "colab_type": "code",
        "colab": {}
      },
      "source": [
        ""
      ],
      "execution_count": 0,
      "outputs": []
    },
    {
      "cell_type": "code",
      "metadata": {
        "id": "LgYjNn996iTv",
        "colab_type": "code",
        "colab": {}
      },
      "source": [
        ""
      ],
      "execution_count": 0,
      "outputs": []
    },
    {
      "cell_type": "markdown",
      "metadata": {
        "id": "FNHPVzew8f_w",
        "colab_type": "text"
      },
      "source": [
        "# Operações com números"
      ]
    },
    {
      "cell_type": "markdown",
      "metadata": {
        "id": "0FhYzdie8mW5",
        "colab_type": "text"
      },
      "source": [
        "## +, -, \\*, **, /, //, %"
      ]
    },
    {
      "cell_type": "code",
      "metadata": {
        "id": "Bg159IL18OFb",
        "colab_type": "code",
        "colab": {}
      },
      "source": [
        ""
      ],
      "execution_count": 0,
      "outputs": []
    },
    {
      "cell_type": "code",
      "metadata": {
        "id": "1_2P9JC_9HYF",
        "colab_type": "code",
        "colab": {}
      },
      "source": [
        ""
      ],
      "execution_count": 0,
      "outputs": []
    },
    {
      "cell_type": "markdown",
      "metadata": {
        "id": "itu7dcvB5B4Y",
        "colab_type": "text"
      },
      "source": [
        "### Exercício 3"
      ]
    },
    {
      "cell_type": "markdown",
      "metadata": {
        "id": "xebMNQlj43u2",
        "colab_type": "text"
      },
      "source": [
        "Faça um programa para uma loja de tintas. O programa deverá pedir o tamanho em metros quadrados da área a ser pintada. Considere que a cobertura da tinta é de 1 litro para cada 3 metros quadrados e que a tinta é vendida em latas de 18 litros, que custam R$ 80,00. Informe ao usuário a quantidades de latas de tinta a serem compradas e o preço total. "
      ]
    },
    {
      "cell_type": "code",
      "metadata": {
        "id": "YRFN4H5i7WVy",
        "colab_type": "code",
        "colab": {}
      },
      "source": [
        ""
      ],
      "execution_count": 0,
      "outputs": []
    },
    {
      "cell_type": "markdown",
      "metadata": {
        "id": "k2XVULpkAvL4",
        "colab_type": "text"
      },
      "source": [
        "### Exercício 4\n",
        "Faça um programa que peça 2 números inteiros e um número float. Calcule e mostre:\n",
        "- O produto do dobro do primeiro com a metade do seguno\n",
        "- A soma o triplo do primeiro com o terceiro\n",
        "- O terceiro elevado ao cubo"
      ]
    },
    {
      "cell_type": "code",
      "metadata": {
        "id": "yxRaE6tf9XvQ",
        "colab_type": "code",
        "colab": {}
      },
      "source": [
        ""
      ],
      "execution_count": 0,
      "outputs": []
    },
    {
      "cell_type": "markdown",
      "metadata": {
        "id": "dBC5K8fJCk7l",
        "colab_type": "text"
      },
      "source": [
        "# Tipos Booleanos\n",
        "\n",
        "True, False, None e conectivos"
      ]
    },
    {
      "cell_type": "markdown",
      "metadata": {
        "id": "wjS2GjhWDM5o",
        "colab_type": "text"
      },
      "source": [
        "### Operadores LÓGICOS\n",
        "\n",
        "```\n",
        "<, >, <=, >=, ==, !=\n",
        "```\n",
        "\n"
      ]
    },
    {
      "cell_type": "code",
      "metadata": {
        "id": "qNS07MpvCpo4",
        "colab_type": "code",
        "colab": {}
      },
      "source": [
        ""
      ],
      "execution_count": 0,
      "outputs": []
    },
    {
      "cell_type": "code",
      "metadata": {
        "id": "dtQk7WQqD_ku",
        "colab_type": "code",
        "colab": {}
      },
      "source": [
        ""
      ],
      "execution_count": 0,
      "outputs": []
    },
    {
      "cell_type": "code",
      "metadata": {
        "id": "GiUZpIZVDTsk",
        "colab_type": "code",
        "colab": {}
      },
      "source": [
        ""
      ],
      "execution_count": 0,
      "outputs": []
    },
    {
      "cell_type": "code",
      "metadata": {
        "id": "KV-U-hcfESZv",
        "colab_type": "code",
        "colab": {}
      },
      "source": [
        ""
      ],
      "execution_count": 0,
      "outputs": []
    },
    {
      "cell_type": "markdown",
      "metadata": {
        "id": "DXP1XhwTE9w7",
        "colab_type": "text"
      },
      "source": [
        "### and, or, not"
      ]
    },
    {
      "cell_type": "code",
      "metadata": {
        "id": "kf3RxFnnEe2m",
        "colab_type": "code",
        "colab": {}
      },
      "source": [
        ""
      ],
      "execution_count": 0,
      "outputs": []
    },
    {
      "cell_type": "code",
      "metadata": {
        "id": "PKmhiaDqFc8N",
        "colab_type": "code",
        "colab": {}
      },
      "source": [
        ""
      ],
      "execution_count": 0,
      "outputs": []
    },
    {
      "cell_type": "code",
      "metadata": {
        "id": "vY0QVJFDFmYD",
        "colab_type": "code",
        "colab": {}
      },
      "source": [
        ""
      ],
      "execution_count": 0,
      "outputs": []
    },
    {
      "cell_type": "code",
      "metadata": {
        "id": "kekm5ZHpGjW0",
        "colab_type": "code",
        "colab": {}
      },
      "source": [
        ""
      ],
      "execution_count": 0,
      "outputs": []
    },
    {
      "cell_type": "code",
      "metadata": {
        "id": "RqeF444iGuAe",
        "colab_type": "code",
        "colab": {}
      },
      "source": [
        ""
      ],
      "execution_count": 0,
      "outputs": []
    },
    {
      "cell_type": "markdown",
      "metadata": {
        "id": "yoJJK2hBG_jW",
        "colab_type": "text"
      },
      "source": [
        "# Estrutura de decisão"
      ]
    },
    {
      "cell_type": "code",
      "metadata": {
        "id": "yWCCuFo9G8Ym",
        "colab_type": "code",
        "colab": {}
      },
      "source": [
        ""
      ],
      "execution_count": 0,
      "outputs": []
    },
    {
      "cell_type": "code",
      "metadata": {
        "id": "CGau1Uf8IfgV",
        "colab_type": "code",
        "colab": {}
      },
      "source": [
        ""
      ],
      "execution_count": 0,
      "outputs": []
    },
    {
      "cell_type": "markdown",
      "metadata": {
        "id": "SGMsPznCMDGy",
        "colab_type": "text"
      },
      "source": [
        "# Condições Falsas"
      ]
    },
    {
      "cell_type": "code",
      "metadata": {
        "id": "Z0OHdvTyMPEp",
        "colab_type": "code",
        "colab": {}
      },
      "source": [
        ""
      ],
      "execution_count": 0,
      "outputs": []
    },
    {
      "cell_type": "code",
      "metadata": {
        "id": "sZDf47Jc23GR",
        "colab_type": "code",
        "colab": {}
      },
      "source": [
        ""
      ],
      "execution_count": 0,
      "outputs": []
    },
    {
      "cell_type": "code",
      "metadata": {
        "id": "pqvxH6y_3EnR",
        "colab_type": "code",
        "colab": {}
      },
      "source": [
        ""
      ],
      "execution_count": 0,
      "outputs": []
    },
    {
      "cell_type": "markdown",
      "metadata": {
        "id": "_up5A-406LwG",
        "colab_type": "text"
      },
      "source": [
        "### Exercício 5\n",
        "Faça um programa para a leitura de duas notas parciais de um aluno. O programa deve calcular a média alcançada por aluno e apresentar:\n",
        "- A mensagem \"Aprovado\", se a média for maior ou igual a sete;\n",
        "-  A mensagem \"Reprovado\", se a média for menor que sete;\n",
        "-  A mensagem \"Aprovado com Distinção\", se a média for igual a dez."
      ]
    },
    {
      "cell_type": "code",
      "metadata": {
        "id": "OTrcSZyH7RfC",
        "colab_type": "code",
        "colab": {}
      },
      "source": [
        ""
      ],
      "execution_count": 0,
      "outputs": []
    },
    {
      "cell_type": "markdown",
      "metadata": {
        "id": "vrbc2o7D3poj",
        "colab_type": "text"
      },
      "source": [
        "### Exercício 6\n",
        "\n",
        "- Pedir o preço de 3 produtos e escolher o menor preço"
      ]
    },
    {
      "cell_type": "code",
      "metadata": {
        "id": "fUF7sRFt7SJV",
        "colab_type": "code",
        "colab": {}
      },
      "source": [
        ""
      ],
      "execution_count": 0,
      "outputs": []
    },
    {
      "cell_type": "markdown",
      "metadata": {
        "id": "y-o6tKvT5_RQ",
        "colab_type": "text"
      },
      "source": [
        "# Strings"
      ]
    },
    {
      "cell_type": "code",
      "metadata": {
        "id": "bWbYC9x44S0m",
        "colab_type": "code",
        "colab": {}
      },
      "source": [
        ""
      ],
      "execution_count": 0,
      "outputs": []
    },
    {
      "cell_type": "code",
      "metadata": {
        "id": "kvZwhQVs7DxF",
        "colab_type": "code",
        "colab": {}
      },
      "source": [
        ""
      ],
      "execution_count": 0,
      "outputs": []
    },
    {
      "cell_type": "code",
      "metadata": {
        "id": "Ol_gBgza7KW8",
        "colab_type": "code",
        "colab": {}
      },
      "source": [
        ""
      ],
      "execution_count": 0,
      "outputs": []
    },
    {
      "cell_type": "code",
      "metadata": {
        "id": "JMYs255L7ima",
        "colab_type": "code",
        "colab": {}
      },
      "source": [
        ""
      ],
      "execution_count": 0,
      "outputs": []
    },
    {
      "cell_type": "code",
      "metadata": {
        "id": "nZGS6DZM72Hy",
        "colab_type": "code",
        "colab": {}
      },
      "source": [
        ""
      ],
      "execution_count": 0,
      "outputs": []
    },
    {
      "cell_type": "code",
      "metadata": {
        "id": "-u-V92EU73A-",
        "colab_type": "code",
        "colab": {}
      },
      "source": [
        ""
      ],
      "execution_count": 0,
      "outputs": []
    },
    {
      "cell_type": "markdown",
      "metadata": {
        "id": "Dnk02RXU7-vN",
        "colab_type": "text"
      },
      "source": [
        "### Concatenação"
      ]
    },
    {
      "cell_type": "code",
      "metadata": {
        "id": "bmWse02474pj",
        "colab_type": "code",
        "colab": {}
      },
      "source": [
        ""
      ],
      "execution_count": 0,
      "outputs": []
    },
    {
      "cell_type": "code",
      "metadata": {
        "id": "XQhRsrUL8FDH",
        "colab_type": "code",
        "colab": {}
      },
      "source": [
        ""
      ],
      "execution_count": 0,
      "outputs": []
    },
    {
      "cell_type": "code",
      "metadata": {
        "id": "bzmea1E48Jrw",
        "colab_type": "code",
        "colab": {}
      },
      "source": [
        ""
      ],
      "execution_count": 0,
      "outputs": []
    },
    {
      "cell_type": "markdown",
      "metadata": {
        "id": "lN_cDwwp9bOY",
        "colab_type": "text"
      },
      "source": [
        "## Métodos - String"
      ]
    },
    {
      "cell_type": "code",
      "metadata": {
        "id": "cOfT9NyV86L0",
        "colab_type": "code",
        "colab": {}
      },
      "source": [
        ""
      ],
      "execution_count": 0,
      "outputs": []
    },
    {
      "cell_type": "code",
      "metadata": {
        "id": "K_PpRXwA9PPI",
        "colab_type": "code",
        "colab": {}
      },
      "source": [
        ""
      ],
      "execution_count": 0,
      "outputs": []
    },
    {
      "cell_type": "code",
      "metadata": {
        "id": "VIt2ERu39rh7",
        "colab_type": "code",
        "colab": {}
      },
      "source": [
        ""
      ],
      "execution_count": 0,
      "outputs": []
    },
    {
      "cell_type": "code",
      "metadata": {
        "id": "SmjNhb1l9vRz",
        "colab_type": "code",
        "colab": {}
      },
      "source": [
        ""
      ],
      "execution_count": 0,
      "outputs": []
    },
    {
      "cell_type": "code",
      "metadata": {
        "id": "tiSCHgkT9x9d",
        "colab_type": "code",
        "colab": {}
      },
      "source": [
        ""
      ],
      "execution_count": 0,
      "outputs": []
    },
    {
      "cell_type": "code",
      "metadata": {
        "id": "upC80bIJ91f7",
        "colab_type": "code",
        "colab": {}
      },
      "source": [
        ""
      ],
      "execution_count": 0,
      "outputs": []
    },
    {
      "cell_type": "code",
      "metadata": {
        "id": "sXUDzGVt97C_",
        "colab_type": "code",
        "colab": {}
      },
      "source": [
        ""
      ],
      "execution_count": 0,
      "outputs": []
    },
    {
      "cell_type": "code",
      "metadata": {
        "id": "SuFO4CAG-BT1",
        "colab_type": "code",
        "colab": {}
      },
      "source": [
        ""
      ],
      "execution_count": 0,
      "outputs": []
    },
    {
      "cell_type": "code",
      "metadata": {
        "id": "AhGAAPZ5-JEi",
        "colab_type": "code",
        "colab": {}
      },
      "source": [
        ""
      ],
      "execution_count": 0,
      "outputs": []
    },
    {
      "cell_type": "code",
      "metadata": {
        "id": "r3PbhwEZ-USf",
        "colab_type": "code",
        "colab": {}
      },
      "source": [
        ""
      ],
      "execution_count": 0,
      "outputs": []
    },
    {
      "cell_type": "code",
      "metadata": {
        "id": "zmG1-VNG-nGV",
        "colab_type": "code",
        "colab": {}
      },
      "source": [
        ""
      ],
      "execution_count": 0,
      "outputs": []
    },
    {
      "cell_type": "code",
      "metadata": {
        "id": "Bli3X1r-_FnX",
        "colab_type": "code",
        "colab": {}
      },
      "source": [
        ""
      ],
      "execution_count": 0,
      "outputs": []
    },
    {
      "cell_type": "code",
      "metadata": {
        "id": "wupqms9I_Mxu",
        "colab_type": "code",
        "colab": {}
      },
      "source": [
        ""
      ],
      "execution_count": 0,
      "outputs": []
    },
    {
      "cell_type": "code",
      "metadata": {
        "id": "hXWO-3FKAgGo",
        "colab_type": "code",
        "colab": {}
      },
      "source": [
        ""
      ],
      "execution_count": 0,
      "outputs": []
    },
    {
      "cell_type": "markdown",
      "metadata": {
        "id": "XZBP939nA7NL",
        "colab_type": "text"
      },
      "source": [
        "## Formatação de Strings"
      ]
    },
    {
      "cell_type": "code",
      "metadata": {
        "id": "_uDV1ZcbAul_",
        "colab_type": "code",
        "colab": {}
      },
      "source": [
        ""
      ],
      "execution_count": 0,
      "outputs": []
    },
    {
      "cell_type": "code",
      "metadata": {
        "id": "CvD0W51fBwUv",
        "colab_type": "code",
        "colab": {}
      },
      "source": [
        ""
      ],
      "execution_count": 0,
      "outputs": []
    },
    {
      "cell_type": "markdown",
      "metadata": {
        "id": "UQEzqZ3-CKg8",
        "colab_type": "text"
      },
      "source": [
        "### Exercicio 7\n",
        "Faça um programa que receba uma data de nascimento (15/07/87) e imprima: \n",
        "`\"Você nasceu em <dia> de <mes> de <ano>\"`"
      ]
    },
    {
      "cell_type": "code",
      "metadata": {
        "id": "Fn6LH7zZ8eMN",
        "colab_type": "code",
        "colab": {}
      },
      "source": [
        ""
      ],
      "execution_count": 0,
      "outputs": []
    },
    {
      "cell_type": "markdown",
      "metadata": {
        "id": "fZg1THRPF2oF",
        "colab_type": "text"
      },
      "source": [
        "# Laços de repetição"
      ]
    },
    {
      "cell_type": "code",
      "metadata": {
        "id": "cx1f0UKDFAB3",
        "colab_type": "code",
        "colab": {}
      },
      "source": [
        ""
      ],
      "execution_count": 0,
      "outputs": []
    },
    {
      "cell_type": "code",
      "metadata": {
        "id": "caGMSTfrHBFW",
        "colab_type": "code",
        "colab": {}
      },
      "source": [
        ""
      ],
      "execution_count": 0,
      "outputs": []
    },
    {
      "cell_type": "code",
      "metadata": {
        "id": "SzHwr5AjIcHK",
        "colab_type": "code",
        "colab": {}
      },
      "source": [
        ""
      ],
      "execution_count": 0,
      "outputs": []
    },
    {
      "cell_type": "markdown",
      "metadata": {
        "id": "7-yg_89nOD72",
        "colab_type": "text"
      },
      "source": [
        "### Exercicio 8\n",
        "Peça para o usuário digite uma nota de 1 a 10 e exiba uma mensagem caso o valor seja inválido, solicitando um novo valor"
      ]
    },
    {
      "cell_type": "code",
      "metadata": {
        "id": "INgYza1y88ZA",
        "colab_type": "code",
        "colab": {}
      },
      "source": [
        "   "
      ],
      "execution_count": 0,
      "outputs": []
    },
    {
      "cell_type": "markdown",
      "metadata": {
        "id": "V5-Mwaxg88_b",
        "colab_type": "text"
      },
      "source": [
        "### Exercício 9\n",
        "Faça um programa que leia 5 números e informe o maior número.\n",
        "\n",
        "Utilize estrutura de while, crie uma variavel para guardar o maior valor, iniciando ela com valor = 0"
      ]
    },
    {
      "cell_type": "code",
      "metadata": {
        "id": "fD7n7qEk9D3A",
        "colab_type": "code",
        "colab": {}
      },
      "source": [
        ""
      ],
      "execution_count": 0,
      "outputs": []
    },
    {
      "cell_type": "code",
      "metadata": {
        "id": "GXAq-H_y93vX",
        "colab_type": "code",
        "colab": {}
      },
      "source": [
        ""
      ],
      "execution_count": 0,
      "outputs": []
    },
    {
      "cell_type": "markdown",
      "metadata": {
        "id": "Vh2x6VErOVXj",
        "colab_type": "text"
      },
      "source": [
        "# FOR"
      ]
    },
    {
      "cell_type": "markdown",
      "metadata": {
        "id": "OXNaVZaMOy7V",
        "colab_type": "text"
      },
      "source": [
        "\n",
        "\n",
        "```\n",
        "for elemento in <iterável>\n",
        "  faça algo\n",
        "else:\n",
        "  faça algo\n",
        "  \n",
        "```\n",
        "\n"
      ]
    },
    {
      "cell_type": "code",
      "metadata": {
        "id": "cxXDw7oYNcP0",
        "colab_type": "code",
        "colab": {}
      },
      "source": [
        ""
      ],
      "execution_count": 0,
      "outputs": []
    },
    {
      "cell_type": "code",
      "metadata": {
        "id": "_s2FJ5FUOvAo",
        "colab_type": "code",
        "colab": {}
      },
      "source": [
        ""
      ],
      "execution_count": 0,
      "outputs": []
    },
    {
      "cell_type": "code",
      "metadata": {
        "id": "Sh2JG-uSP962",
        "colab_type": "code",
        "colab": {}
      },
      "source": [
        ""
      ],
      "execution_count": 0,
      "outputs": []
    },
    {
      "cell_type": "code",
      "metadata": {
        "id": "ODuodKPnQfkX",
        "colab_type": "code",
        "colab": {}
      },
      "source": [
        ""
      ],
      "execution_count": 0,
      "outputs": []
    },
    {
      "cell_type": "markdown",
      "metadata": {
        "id": "mw0Rui429Les",
        "colab_type": "text"
      },
      "source": [
        "### Exercício 10\n",
        "Faça um programa que itera em uma string e toda vez que uma vogal aparecer na sua string imprima a palavra 'vogal' entre as letras\n",
        "\n",
        "\n",
        "```\n",
        "string = banana\n",
        "\n",
        "b\n",
        "vogal\n",
        "n\n",
        "vogal\n",
        "...\n",
        "```\n",
        "\n"
      ]
    },
    {
      "cell_type": "markdown",
      "metadata": {
        "id": "MsvfuNO_SzXT",
        "colab_type": "text"
      },
      "source": [
        "# Listas"
      ]
    },
    {
      "cell_type": "code",
      "metadata": {
        "id": "c_hGFyC3SStf",
        "colab_type": "code",
        "colab": {}
      },
      "source": [
        ""
      ],
      "execution_count": 0,
      "outputs": []
    },
    {
      "cell_type": "code",
      "metadata": {
        "id": "MvZl_PscT0ow",
        "colab_type": "code",
        "colab": {}
      },
      "source": [
        ""
      ],
      "execution_count": 0,
      "outputs": []
    },
    {
      "cell_type": "code",
      "metadata": {
        "id": "1psoazHmT-4i",
        "colab_type": "code",
        "colab": {}
      },
      "source": [
        ""
      ],
      "execution_count": 0,
      "outputs": []
    },
    {
      "cell_type": "code",
      "metadata": {
        "id": "IM3iL10CUE0o",
        "colab_type": "code",
        "colab": {}
      },
      "source": [
        ""
      ],
      "execution_count": 0,
      "outputs": []
    },
    {
      "cell_type": "code",
      "metadata": {
        "id": "plXnVLrFUcKY",
        "colab_type": "code",
        "colab": {}
      },
      "source": [
        ""
      ],
      "execution_count": 0,
      "outputs": []
    },
    {
      "cell_type": "code",
      "metadata": {
        "id": "3-xpCgmOUwmM",
        "colab_type": "code",
        "colab": {}
      },
      "source": [
        ""
      ],
      "execution_count": 0,
      "outputs": []
    },
    {
      "cell_type": "code",
      "metadata": {
        "id": "UZsbgXcMU3fd",
        "colab_type": "code",
        "colab": {}
      },
      "source": [
        ""
      ],
      "execution_count": 0,
      "outputs": []
    },
    {
      "cell_type": "code",
      "metadata": {
        "id": "JThOQPjnVED9",
        "colab_type": "code",
        "colab": {}
      },
      "source": [
        ""
      ],
      "execution_count": 0,
      "outputs": []
    },
    {
      "cell_type": "code",
      "metadata": {
        "id": "Lvvk4OxtVG-G",
        "colab_type": "code",
        "colab": {}
      },
      "source": [
        ""
      ],
      "execution_count": 0,
      "outputs": []
    },
    {
      "cell_type": "markdown",
      "metadata": {
        "id": "hjcgW7bV9nPn",
        "colab_type": "text"
      },
      "source": [
        "### Exercício 11\n",
        "Faça um programa que receba uma string, com um número de ponto flutuante, e imprima qual a parte dele que não é inteira\n",
        "\n",
        "\n",
        "```\n",
        "n = '3.14'\n",
        "resposta: 14\n",
        "```\n",
        "\n"
      ]
    },
    {
      "cell_type": "code",
      "metadata": {
        "id": "CicFGvA1aHEu",
        "colab_type": "code",
        "colab": {}
      },
      "source": [
        ""
      ],
      "execution_count": 0,
      "outputs": []
    },
    {
      "cell_type": "markdown",
      "metadata": {
        "id": "hiz0nHRXVeWc",
        "colab_type": "text"
      },
      "source": [
        "## Slice - Listas\n",
        "\n",
        "[\\<de onde inclusive\\>**:**\\<até onde não inclusive\\>**:**\\<passos\\>]"
      ]
    },
    {
      "cell_type": "code",
      "metadata": {
        "id": "92nYzkGQVMXH",
        "colab_type": "code",
        "colab": {}
      },
      "source": [
        ""
      ],
      "execution_count": 0,
      "outputs": []
    },
    {
      "cell_type": "code",
      "metadata": {
        "id": "ImAaRZJKVkjF",
        "colab_type": "code",
        "colab": {}
      },
      "source": [
        ""
      ],
      "execution_count": 0,
      "outputs": []
    },
    {
      "cell_type": "code",
      "metadata": {
        "id": "aFvOvNHzVmNW",
        "colab_type": "code",
        "colab": {}
      },
      "source": [
        ""
      ],
      "execution_count": 0,
      "outputs": []
    },
    {
      "cell_type": "code",
      "metadata": {
        "id": "AGAo-Wo5VoU5",
        "colab_type": "code",
        "colab": {}
      },
      "source": [
        ""
      ],
      "execution_count": 0,
      "outputs": []
    },
    {
      "cell_type": "code",
      "metadata": {
        "id": "uKMWsh26VrMR",
        "colab_type": "code",
        "colab": {}
      },
      "source": [
        ""
      ],
      "execution_count": 0,
      "outputs": []
    },
    {
      "cell_type": "code",
      "metadata": {
        "id": "dmV4eaVhVvBD",
        "colab_type": "code",
        "colab": {}
      },
      "source": [
        ""
      ],
      "execution_count": 0,
      "outputs": []
    },
    {
      "cell_type": "code",
      "metadata": {
        "id": "KPEWGfgzV0Yz",
        "colab_type": "code",
        "colab": {}
      },
      "source": [
        ""
      ],
      "execution_count": 0,
      "outputs": []
    },
    {
      "cell_type": "code",
      "metadata": {
        "id": "FZMn4TCDXTwB",
        "colab_type": "code",
        "colab": {}
      },
      "source": [
        ""
      ],
      "execution_count": 0,
      "outputs": []
    },
    {
      "cell_type": "code",
      "metadata": {
        "id": "VveJO0KcXW6h",
        "colab_type": "code",
        "colab": {}
      },
      "source": [
        ""
      ],
      "execution_count": 0,
      "outputs": []
    },
    {
      "cell_type": "code",
      "metadata": {
        "id": "LlpVi9HeXaXZ",
        "colab_type": "code",
        "colab": {}
      },
      "source": [
        ""
      ],
      "execution_count": 0,
      "outputs": []
    },
    {
      "cell_type": "code",
      "metadata": {
        "id": "kLBGfUEbXeM7",
        "colab_type": "code",
        "colab": {}
      },
      "source": [
        ""
      ],
      "execution_count": 0,
      "outputs": []
    },
    {
      "cell_type": "code",
      "metadata": {
        "id": "r6_u5lwAXh38",
        "colab_type": "code",
        "colab": {}
      },
      "source": [
        ""
      ],
      "execution_count": 0,
      "outputs": []
    },
    {
      "cell_type": "code",
      "metadata": {
        "id": "Xjp2h8udX-hq",
        "colab_type": "code",
        "colab": {}
      },
      "source": [
        ""
      ],
      "execution_count": 0,
      "outputs": []
    },
    {
      "cell_type": "code",
      "metadata": {
        "id": "gj6ve887YQ0G",
        "colab_type": "code",
        "colab": {}
      },
      "source": [
        ""
      ],
      "execution_count": 0,
      "outputs": []
    },
    {
      "cell_type": "code",
      "metadata": {
        "id": "lXYynY5kYZjz",
        "colab_type": "code",
        "colab": {}
      },
      "source": [
        ""
      ],
      "execution_count": 0,
      "outputs": []
    },
    {
      "cell_type": "code",
      "metadata": {
        "id": "ERXaWC17YefA",
        "colab_type": "code",
        "colab": {}
      },
      "source": [
        ""
      ],
      "execution_count": 0,
      "outputs": []
    },
    {
      "cell_type": "markdown",
      "metadata": {
        "id": "xdpF5BhqZrdp",
        "colab_type": "text"
      },
      "source": [
        "## Métodos - Listas"
      ]
    },
    {
      "cell_type": "code",
      "metadata": {
        "id": "J5GxI70fYwwr",
        "colab_type": "code",
        "colab": {}
      },
      "source": [
        ""
      ],
      "execution_count": 0,
      "outputs": []
    },
    {
      "cell_type": "code",
      "metadata": {
        "id": "Cy2GfCoLZzOD",
        "colab_type": "code",
        "colab": {}
      },
      "source": [
        ""
      ],
      "execution_count": 0,
      "outputs": []
    },
    {
      "cell_type": "code",
      "metadata": {
        "id": "2kw4kti8Z1sI",
        "colab_type": "code",
        "colab": {}
      },
      "source": [
        ""
      ],
      "execution_count": 0,
      "outputs": []
    },
    {
      "cell_type": "code",
      "metadata": {
        "id": "xUxkZ1MdaA5a",
        "colab_type": "code",
        "colab": {}
      },
      "source": [
        ""
      ],
      "execution_count": 0,
      "outputs": []
    },
    {
      "cell_type": "code",
      "metadata": {
        "id": "psWBMq52aLo9",
        "colab_type": "code",
        "colab": {}
      },
      "source": [
        ""
      ],
      "execution_count": 0,
      "outputs": []
    },
    {
      "cell_type": "code",
      "metadata": {
        "id": "bhac3NthaRRw",
        "colab_type": "code",
        "colab": {}
      },
      "source": [
        ""
      ],
      "execution_count": 0,
      "outputs": []
    },
    {
      "cell_type": "code",
      "metadata": {
        "id": "oUrTiTzPaULr",
        "colab_type": "code",
        "colab": {}
      },
      "source": [
        ""
      ],
      "execution_count": 0,
      "outputs": []
    },
    {
      "cell_type": "code",
      "metadata": {
        "id": "OqwciaPNaawt",
        "colab_type": "code",
        "colab": {}
      },
      "source": [
        ""
      ],
      "execution_count": 0,
      "outputs": []
    },
    {
      "cell_type": "markdown",
      "metadata": {
        "id": "yrBINqRC-DPN",
        "colab_type": "text"
      },
      "source": [
        "### Exercício 12\n",
        "Faça um programa que: Dada uma lista [1, 2, 3, 4, 5, 6, 7, 8, 9, 10] e um número inteiro, imprima a tabuada desse número."
      ]
    },
    {
      "cell_type": "code",
      "metadata": {
        "id": "12AVWQ5NacW2",
        "colab_type": "code",
        "colab": {}
      },
      "source": [
        ""
      ],
      "execution_count": 0,
      "outputs": []
    },
    {
      "cell_type": "markdown",
      "metadata": {
        "id": "etJPXwxm-WcC",
        "colab_type": "text"
      },
      "source": [
        "### Exercício 13\n",
        "Faça um programa que dada a entrada de uma lista ele faça o cálculo acumulativo da mesma:\n",
        "\n",
        "\n",
        "\n",
        "```\n",
        "Exemplo:\n",
        "Entrada: [1, 2, 3, 4]\n",
        "Saída: [1, 3, 6, 10]\n",
        "```\n",
        "\n"
      ]
    },
    {
      "cell_type": "code",
      "metadata": {
        "id": "ZD0IXEAK-xRN",
        "colab_type": "code",
        "colab": {}
      },
      "source": [
        ""
      ],
      "execution_count": 0,
      "outputs": []
    },
    {
      "cell_type": "markdown",
      "metadata": {
        "id": "6CZr5Qrc-vzY",
        "colab_type": "text"
      },
      "source": [
        "### Exercício 14\n",
        "Faça um programa que dada a entrada de uma lista o programa calcule a combinatória de dois elementos e nos retorne as combinações em uma nova lista.\n",
        "\n",
        "######## Resolver ao vivo\n",
        "\n",
        "```\n",
        "Exemplo de entrada: [1, 2, 3, 4]\n",
        "Exemplo de saída: [[1, 2], [1, 3], [1, 4], [2, 3], [2, 4], [3, 4]]\n",
        "\n",
        "```\n",
        "\n"
      ]
    },
    {
      "cell_type": "code",
      "metadata": {
        "id": "FbMxPHDWguSv",
        "colab_type": "code",
        "colab": {}
      },
      "source": [
        ""
      ],
      "execution_count": 0,
      "outputs": []
    },
    {
      "cell_type": "markdown",
      "metadata": {
        "id": "Xkdayh80CklV",
        "colab_type": "text"
      },
      "source": [
        "# Funções\n",
        "![alt text](https://github.com/avellar1975/python/raw/master/img/funcoes.jpg)\n",
        "\n",
        "- O foco deste curso será nas funções nomeadas com return"
      ]
    },
    {
      "cell_type": "markdown",
      "metadata": {
        "id": "xLcQEEndFgFS",
        "colab_type": "text"
      },
      "source": [
        "## Funções Geradoras (yield)\n",
        "A palavra-chave yield, já é conhecida em outras linguagens, como Python, por exemplo. Na verdade, o comando yield é bastante parecido com o comando return, com a diferença que usando yield, a função continua em execução, ou seja, o valor será retornado e a função continuará executando o restante do código.\n",
        "\n"
      ]
    },
    {
      "cell_type": "code",
      "metadata": {
        "id": "IzXs6arKRgAs",
        "colab_type": "code",
        "colab": {}
      },
      "source": [
        ""
      ],
      "execution_count": 0,
      "outputs": []
    },
    {
      "cell_type": "code",
      "metadata": {
        "id": "kyvot1bCR3TS",
        "colab_type": "code",
        "colab": {}
      },
      "source": [
        ""
      ],
      "execution_count": 0,
      "outputs": []
    },
    {
      "cell_type": "code",
      "metadata": {
        "id": "580qYxz7SD0T",
        "colab_type": "code",
        "colab": {}
      },
      "source": [
        ""
      ],
      "execution_count": 0,
      "outputs": []
    },
    {
      "cell_type": "code",
      "metadata": {
        "id": "nLknUmvwSGf6",
        "colab_type": "code",
        "colab": {}
      },
      "source": [
        ""
      ],
      "execution_count": 0,
      "outputs": []
    },
    {
      "cell_type": "markdown",
      "metadata": {
        "id": "hDQSjPGtT-58",
        "colab_type": "text"
      },
      "source": [
        "## Funções lambda (anônimas)\n",
        "\n",
        "Funções lambda nada mais são do que funções anônimas. Enquanto funções normais podem ser criada utilizando def como prefixo, as funções lambda são criadas utilizando lambda."
      ]
    },
    {
      "cell_type": "code",
      "metadata": {
        "id": "9KqPsp-eUSQf",
        "colab_type": "code",
        "colab": {}
      },
      "source": [
        ""
      ],
      "execution_count": 0,
      "outputs": []
    },
    {
      "cell_type": "code",
      "metadata": {
        "id": "m4S92Ra_UZJF",
        "colab_type": "code",
        "colab": {}
      },
      "source": [
        ""
      ],
      "execution_count": 0,
      "outputs": []
    },
    {
      "cell_type": "markdown",
      "metadata": {
        "id": "pzQIOGxCVHGW",
        "colab_type": "text"
      },
      "source": [
        "## Funções nomeadas (\"normais\")\n",
        "Funções são blocos de códigos que podemos identificá-los por um determinado nome e passar parâmetros predeterminados.\n",
        "\n"
      ]
    },
    {
      "cell_type": "markdown",
      "metadata": {
        "id": "mDwdNMQ2YDLJ",
        "colab_type": "text"
      },
      "source": [
        "\n",
        "\n",
        "```\n",
        "def nome_funcao(parâmetros):\n",
        "    código\n",
        "    código\n",
        "    código\n",
        "    ...\n",
        "    return algo\n",
        "```\n",
        "\n"
      ]
    },
    {
      "cell_type": "code",
      "metadata": {
        "id": "jJbcYyqCnxWO",
        "colab_type": "code",
        "colab": {}
      },
      "source": [
        ""
      ],
      "execution_count": 0,
      "outputs": []
    },
    {
      "cell_type": "code",
      "metadata": {
        "id": "jEuVq9zyorvj",
        "colab_type": "code",
        "colab": {}
      },
      "source": [
        ""
      ],
      "execution_count": 0,
      "outputs": []
    },
    {
      "cell_type": "code",
      "metadata": {
        "id": "BsOTOs0IYMSP",
        "colab_type": "code",
        "colab": {}
      },
      "source": [
        ""
      ],
      "execution_count": 0,
      "outputs": []
    },
    {
      "cell_type": "code",
      "metadata": {
        "id": "iDEzRIyIpbhE",
        "colab_type": "code",
        "colab": {}
      },
      "source": [
        "# como seria uma funcao para calcular a media dos valores de uma lista?"
      ],
      "execution_count": 0,
      "outputs": []
    },
    {
      "cell_type": "code",
      "metadata": {
        "id": "1WmB8TK_sxe1",
        "colab_type": "code",
        "colab": {}
      },
      "source": [
        ""
      ],
      "execution_count": 0,
      "outputs": []
    },
    {
      "cell_type": "code",
      "metadata": {
        "id": "wUqrUukCs7hH",
        "colab_type": "code",
        "colab": {}
      },
      "source": [
        ""
      ],
      "execution_count": 0,
      "outputs": []
    },
    {
      "cell_type": "code",
      "metadata": {
        "id": "j61FFzBitBc6",
        "colab_type": "code",
        "colab": {}
      },
      "source": [
        ""
      ],
      "execution_count": 0,
      "outputs": []
    },
    {
      "cell_type": "markdown",
      "metadata": {
        "id": "TzRtAlWkujN6",
        "colab_type": "text"
      },
      "source": [
        "### *args\n",
        "É usado para passar um lista de argumentos variável sem palavras-chave em forma de tupla, pois a função que o recebe não necessariamente saberá quantos argumentos serão passados."
      ]
    },
    {
      "cell_type": "code",
      "metadata": {
        "id": "rIi863AXuJMA",
        "colab_type": "code",
        "colab": {}
      },
      "source": [
        ""
      ],
      "execution_count": 0,
      "outputs": []
    },
    {
      "cell_type": "markdown",
      "metadata": {
        "id": "zRrfRbWUwFm0",
        "colab_type": "text"
      },
      "source": [
        "### **kwargs\n",
        "Como a abreviação sugere, kwargs significa keyword arguments (argumentos de palavras chave). Ele permite passar um dicionário com inúmeras keys para a função."
      ]
    },
    {
      "cell_type": "code",
      "metadata": {
        "id": "NM9jIzbrwL1j",
        "colab_type": "code",
        "colab": {}
      },
      "source": [
        ""
      ],
      "execution_count": 0,
      "outputs": []
    },
    {
      "cell_type": "code",
      "metadata": {
        "id": "RpI6iexfw3JN",
        "colab_type": "code",
        "colab": {}
      },
      "source": [
        ""
      ],
      "execution_count": 0,
      "outputs": []
    },
    {
      "cell_type": "code",
      "metadata": {
        "id": "nJLmJRRgw-0T",
        "colab_type": "code",
        "colab": {}
      },
      "source": [
        ""
      ],
      "execution_count": 0,
      "outputs": []
    },
    {
      "cell_type": "markdown",
      "metadata": {
        "id": "Br5Qu2Ly2AyK",
        "colab_type": "text"
      },
      "source": [
        "### Exercício 15\n",
        "Faça um programa, com uma função, que calcule a média de uma lista.\n",
        "Funções nativas que pode ajudar:\n",
        "- len(lista) -> calcula o tamanho da lista\n",
        "- sum(lista) -> faz o somatória dos valores\n",
        "\n",
        "\n",
        "\n",
        "```\n",
        "Exemplo de entrada: [1, 3, 4, 6, 11]\n",
        "Exemplo de saída: Média: 5.0\n",
        "```"
      ]
    },
    {
      "cell_type": "markdown",
      "metadata": {
        "id": "FJaHpo6Q2k1p",
        "colab_type": "text"
      },
      "source": [
        "### Exercício 16\n",
        "Faça um programa, com uma função, que calcula a mediana de uma lista.\n",
        "Funções embutidas que podem te ajudar:\n",
        "- sorted(lista) -> ordena a lista\n",
        "\n",
        "\n",
        "\n",
        "```\n",
        "lista = [7, 4, 4, 5, 1, 7, 7, 6]\n",
        "Mediana: 5.5\n",
        "\n",
        "lista = [9, 2, 8, 9, 3, 2, 7]\n",
        "Mediana: 7\n",
        "```\n",
        "\n"
      ]
    },
    {
      "cell_type": "code",
      "metadata": {
        "id": "xLprJZTP2roj",
        "colab_type": "code",
        "colab": {}
      },
      "source": [
        ""
      ],
      "execution_count": 0,
      "outputs": []
    },
    {
      "cell_type": "markdown",
      "metadata": {
        "id": "hmW0jT453ANl",
        "colab_type": "text"
      },
      "source": [
        "\n",
        "### Exercício 17\n",
        "Escreva uma função chamada **ajustar**, que receba uma string chamada s como parâmetro e exiba a string com espaços suficientes à frente para que a última letra da string esteja na coluna 70 da tela:\n",
        "\n",
        "Dica: Use concatenação de strings e repetição. Além disso, o Python oferece uma função integrada chamada len, que apresenta o comprimento de uma string, então o valor de len('monty') é 5."
      ]
    },
    {
      "cell_type": "code",
      "metadata": {
        "id": "Isb6JfZw3FGa",
        "colab_type": "code",
        "colab": {}
      },
      "source": [
        ""
      ],
      "execution_count": 0,
      "outputs": []
    },
    {
      "cell_type": "markdown",
      "metadata": {
        "id": "LGMs76p23Fmr",
        "colab_type": "text"
      },
      "source": [
        "### Exercício 18\n",
        "Faça um programa com uma função chamada somaImposto. A função possui dois parâmetros formais: **taxaImposto**, que é a quantia de imposto sobre vendas expressa em porcentagem e **custo**, que é o custo de um item antes do imposto. A função “altera” o valor de custo para incluir o imposto sobre vendas.\n",
        "\n",
        "\n",
        "\n",
        "```\n",
        "Exemplo: \n",
        "\n",
        "somaImposto(10, 130.00)\n",
        "\n",
        "Saída: 143.00\n",
        "```\n",
        "\n"
      ]
    },
    {
      "cell_type": "code",
      "metadata": {
        "id": "2fTQqip038xC",
        "colab_type": "code",
        "colab": {}
      },
      "source": [
        ""
      ],
      "execution_count": 0,
      "outputs": []
    },
    {
      "cell_type": "markdown",
      "metadata": {
        "id": "u27tAkz539Y6",
        "colab_type": "text"
      },
      "source": [
        "# Tuplas"
      ]
    },
    {
      "cell_type": "markdown",
      "metadata": {
        "id": "TKf8w7sJ4JSk",
        "colab_type": "text"
      },
      "source": [
        "x = (1,2,3)\n",
        "- Elas não são só listas imutáveis"
      ]
    },
    {
      "cell_type": "code",
      "metadata": {
        "id": "Fx5EjokZ4Zix",
        "colab_type": "code",
        "colab": {}
      },
      "source": [
        ""
      ],
      "execution_count": 0,
      "outputs": []
    },
    {
      "cell_type": "code",
      "metadata": {
        "id": "r5wNtqFv4evy",
        "colab_type": "code",
        "colab": {}
      },
      "source": [
        ""
      ],
      "execution_count": 0,
      "outputs": []
    },
    {
      "cell_type": "code",
      "metadata": {
        "id": "Oi15iFcO4kH5",
        "colab_type": "code",
        "colab": {}
      },
      "source": [
        ""
      ],
      "execution_count": 0,
      "outputs": []
    },
    {
      "cell_type": "code",
      "metadata": {
        "id": "Myn5ws3X5Esb",
        "colab_type": "code",
        "colab": {}
      },
      "source": [
        ""
      ],
      "execution_count": 0,
      "outputs": []
    },
    {
      "cell_type": "code",
      "metadata": {
        "id": "pPAkD5YX5NbS",
        "colab_type": "code",
        "colab": {}
      },
      "source": [
        ""
      ],
      "execution_count": 0,
      "outputs": []
    },
    {
      "cell_type": "code",
      "metadata": {
        "id": "EP7EMnZF5myA",
        "colab_type": "code",
        "colab": {}
      },
      "source": [
        ""
      ],
      "execution_count": 0,
      "outputs": []
    },
    {
      "cell_type": "code",
      "metadata": {
        "id": "ejLIub9f5zuD",
        "colab_type": "code",
        "colab": {}
      },
      "source": [
        ""
      ],
      "execution_count": 0,
      "outputs": []
    },
    {
      "cell_type": "code",
      "metadata": {
        "id": "Kb4Q3lN16A5H",
        "colab_type": "code",
        "colab": {}
      },
      "source": [
        ""
      ],
      "execution_count": 0,
      "outputs": []
    },
    {
      "cell_type": "code",
      "metadata": {
        "id": "KWPAEXVe7Orc",
        "colab_type": "code",
        "colab": {}
      },
      "source": [
        ""
      ],
      "execution_count": 0,
      "outputs": []
    },
    {
      "cell_type": "code",
      "metadata": {
        "id": "Sp1J3MN97e92",
        "colab_type": "code",
        "colab": {}
      },
      "source": [
        ""
      ],
      "execution_count": 0,
      "outputs": []
    },
    {
      "cell_type": "markdown",
      "metadata": {
        "id": "UsVRwecP7qoS",
        "colab_type": "text"
      },
      "source": [
        "# Conjuntos\n",
        "\n",
        "![alt text](https://github.com/avellar1975/python/raw/master/img/hashetable.png)"
      ]
    },
    {
      "cell_type": "markdown",
      "metadata": {
        "id": "tOXDrwX88u0Y",
        "colab_type": "text"
      },
      "source": [
        "- Listas e tuplas tem posições\n",
        "- Conjuntos e Dicionários: seus elementos não tem posições\n"
      ]
    },
    {
      "cell_type": "markdown",
      "metadata": {
        "id": "D7qP0Jmw9e4l",
        "colab_type": "text"
      },
      "source": [
        "## Métodos de conjuntos"
      ]
    },
    {
      "cell_type": "code",
      "metadata": {
        "id": "TyWSL53a9iDE",
        "colab_type": "code",
        "colab": {}
      },
      "source": [
        ""
      ],
      "execution_count": 0,
      "outputs": []
    },
    {
      "cell_type": "code",
      "metadata": {
        "id": "2F473sjT9iBb",
        "colab_type": "code",
        "colab": {}
      },
      "source": [
        ""
      ],
      "execution_count": 0,
      "outputs": []
    },
    {
      "cell_type": "code",
      "metadata": {
        "id": "8OWayrja9xDd",
        "colab_type": "code",
        "colab": {}
      },
      "source": [
        ""
      ],
      "execution_count": 0,
      "outputs": []
    },
    {
      "cell_type": "code",
      "metadata": {
        "id": "KlMGiA1690Ke",
        "colab_type": "code",
        "colab": {}
      },
      "source": [
        ""
      ],
      "execution_count": 0,
      "outputs": []
    },
    {
      "cell_type": "code",
      "metadata": {
        "id": "mCl5tKTw97q5",
        "colab_type": "code",
        "colab": {}
      },
      "source": [
        ""
      ],
      "execution_count": 0,
      "outputs": []
    },
    {
      "cell_type": "code",
      "metadata": {
        "id": "KAnNLe4C-DUg",
        "colab_type": "code",
        "colab": {}
      },
      "source": [
        ""
      ],
      "execution_count": 0,
      "outputs": []
    },
    {
      "cell_type": "code",
      "metadata": {
        "id": "wIRACzkX-Jvc",
        "colab_type": "code",
        "colab": {}
      },
      "source": [
        ""
      ],
      "execution_count": 0,
      "outputs": []
    },
    {
      "cell_type": "code",
      "metadata": {
        "id": "fAaw5Xv1-OKd",
        "colab_type": "code",
        "colab": {}
      },
      "source": [
        ""
      ],
      "execution_count": 0,
      "outputs": []
    },
    {
      "cell_type": "code",
      "metadata": {
        "id": "88GO5uSp_Pcq",
        "colab_type": "code",
        "colab": {}
      },
      "source": [
        ""
      ],
      "execution_count": 0,
      "outputs": []
    },
    {
      "cell_type": "code",
      "metadata": {
        "id": "hs876xvj_Pah",
        "colab_type": "code",
        "colab": {}
      },
      "source": [
        ""
      ],
      "execution_count": 0,
      "outputs": []
    },
    {
      "cell_type": "code",
      "metadata": {
        "id": "butJi8eWAs8M",
        "colab_type": "code",
        "colab": {}
      },
      "source": [
        ""
      ],
      "execution_count": 0,
      "outputs": []
    },
    {
      "cell_type": "code",
      "metadata": {
        "id": "OS-c7CpeAs56",
        "colab_type": "code",
        "colab": {}
      },
      "source": [
        ""
      ],
      "execution_count": 0,
      "outputs": []
    },
    {
      "cell_type": "code",
      "metadata": {
        "id": "D6VOIQPQBJY4",
        "colab_type": "code",
        "colab": {}
      },
      "source": [
        ""
      ],
      "execution_count": 0,
      "outputs": []
    },
    {
      "cell_type": "markdown",
      "metadata": {
        "id": "HlKxLpDK-GU6",
        "colab_type": "text"
      },
      "source": [
        "# Dicionários"
      ]
    },
    {
      "cell_type": "code",
      "metadata": {
        "id": "dwRLcqIgB3ii",
        "colab_type": "code",
        "colab": {}
      },
      "source": [
        ""
      ],
      "execution_count": 0,
      "outputs": []
    },
    {
      "cell_type": "code",
      "metadata": {
        "id": "JbizBtbICIZf",
        "colab_type": "code",
        "colab": {}
      },
      "source": [
        ""
      ],
      "execution_count": 0,
      "outputs": []
    },
    {
      "cell_type": "code",
      "metadata": {
        "id": "rjM1c6dWCIXd",
        "colab_type": "code",
        "colab": {}
      },
      "source": [
        ""
      ],
      "execution_count": 0,
      "outputs": []
    },
    {
      "cell_type": "code",
      "metadata": {
        "id": "aXzr8MPQC0DY",
        "colab_type": "code",
        "colab": {}
      },
      "source": [
        ""
      ],
      "execution_count": 0,
      "outputs": []
    },
    {
      "cell_type": "code",
      "metadata": {
        "id": "XAiSBRVcC5BY",
        "colab_type": "code",
        "colab": {}
      },
      "source": [
        ""
      ],
      "execution_count": 0,
      "outputs": []
    },
    {
      "cell_type": "code",
      "metadata": {
        "id": "1mRbfVIiC7_x",
        "colab_type": "code",
        "colab": {}
      },
      "source": [
        ""
      ],
      "execution_count": 0,
      "outputs": []
    },
    {
      "cell_type": "code",
      "metadata": {
        "id": "ng2WKScFDZtG",
        "colab_type": "code",
        "colab": {}
      },
      "source": [
        ""
      ],
      "execution_count": 0,
      "outputs": []
    },
    {
      "cell_type": "code",
      "metadata": {
        "id": "QH3etev6Islb",
        "colab_type": "code",
        "colab": {}
      },
      "source": [
        ""
      ],
      "execution_count": 0,
      "outputs": []
    },
    {
      "cell_type": "code",
      "metadata": {
        "id": "bu2PoUyLI2W6",
        "colab_type": "code",
        "colab": {}
      },
      "source": [
        ""
      ],
      "execution_count": 0,
      "outputs": []
    },
    {
      "cell_type": "code",
      "metadata": {
        "id": "JQMxTiWhI7NJ",
        "colab_type": "code",
        "colab": {}
      },
      "source": [
        ""
      ],
      "execution_count": 0,
      "outputs": []
    },
    {
      "cell_type": "code",
      "metadata": {
        "id": "aB6IDecVI7LU",
        "colab_type": "code",
        "colab": {}
      },
      "source": [
        ""
      ],
      "execution_count": 0,
      "outputs": []
    },
    {
      "cell_type": "code",
      "metadata": {
        "id": "6ZhHfau9JC6h",
        "colab_type": "code",
        "colab": {}
      },
      "source": [
        ""
      ],
      "execution_count": 0,
      "outputs": []
    },
    {
      "cell_type": "code",
      "metadata": {
        "id": "xZGGJ1PnJHhT",
        "colab_type": "code",
        "colab": {}
      },
      "source": [
        ""
      ],
      "execution_count": 0,
      "outputs": []
    },
    {
      "cell_type": "code",
      "metadata": {
        "id": "nAAw3-7UJKr5",
        "colab_type": "code",
        "colab": {}
      },
      "source": [
        ""
      ],
      "execution_count": 0,
      "outputs": []
    },
    {
      "cell_type": "markdown",
      "metadata": {
        "id": "iDjYu4OPJtJI",
        "colab_type": "text"
      },
      "source": [
        "### Exercício 19\n",
        "Dada uma lista de entradas de usuário de números inteiros, construa um\n",
        "dicionário com a lista padrão, a lista dos valores elevados ao quadrado e a lista\n",
        "dos valores elevados ao cubo\n",
        "\n",
        "\n",
        "\n",
        "```\n",
        "Fala um número aí:   1\n",
        "Fala um número aí:   2\n",
        "Fala um número aí:   3\n",
        "Fala um número aí:   4\n",
        "Fala um número aí:   5\n",
        "Fala um número aí:   6\n",
        "Fala um número aí:   7\n",
        "Fala um número aí:   8\n",
        "Fala um número aí:   9\n",
        "Fala um número aí:   10\n",
        "{'lista padrão': [1, 2, 3, 4, 5, 6, 7, 8, 9, 10], 'lista quadrada': [1, 4, 9, 16, 25, 36, 49, 64, 81, 100], 'lista cúbica': [1, 8, 27, 64, 125, 216, 343, 512, 729, 1000]}\n",
        "```\n",
        "\n"
      ]
    },
    {
      "cell_type": "markdown",
      "metadata": {
        "id": "dwbJiAYXJd4U",
        "colab_type": "text"
      },
      "source": [
        "### Exercício 20\n",
        "Crie um programa que simule o funcionamento de um caixa eletrônico. No início, pergunte ao usuário qual será o valor a ser sacado (número inteiro) e o programa vai informar quantas cédulas de cada valor serão entregues.\n",
        "\n",
        "Considere que o ATM possui notas de R\\$50, R\\$20, R\\$10 e R\\$1\n",
        "\n",
        "Deve ser dispensado o menor número de cédulas possíveis.\n",
        "\n",
        "\n",
        "```\n",
        "========================================\n",
        "   CAIXA ECONOMICA FEDERAL\n",
        "========================================\n",
        "Que valor você quer sacar? R$120\n",
        "Total de 2 de R$50.00\n",
        "Total de 1 de R$20.00\n",
        "========================================\n",
        "Volte sempre à CAIXA! Tenha um bom dia.\n",
        "```\n",
        "\n",
        "\n",
        "\n",
        "\n",
        "```\n",
        "========================================\n",
        "   CAIXA ECONOMICA FEDERAL\n",
        "========================================\n",
        "Que valor você quer sacar? R$136\n",
        "Total de 2 de R$50.00\n",
        "Total de 1 de R$20.00\n",
        "Total de 1 de R$10.00\n",
        "Total de 6 de R$ 1.00\n",
        "========================================\n",
        "Volte sempre à CAIXA! Tenha um bom dia.\n",
        "```\n",
        "\n"
      ]
    },
    {
      "cell_type": "code",
      "metadata": {
        "id": "gpS2ht8TbCAh",
        "colab_type": "code",
        "outputId": "20360ab5-400d-4253-eb6f-d7ca757f868a",
        "colab": {
          "base_uri": "https://localhost:8080/",
          "height": 175
        }
      },
      "source": [
        "caixaeletronico()"
      ],
      "execution_count": 0,
      "outputs": [
        {
          "output_type": "stream",
          "text": [
            "========================================\n",
            "   CAIXA ECONOMICA FEDERAL\n",
            "========================================\n",
            "Que valor você quer sacar? R$1765\n",
            "Total de 35 de R$50.00\n",
            "Total de 1 de R$10.00\n",
            "Total de 5 de R$ 1.00\n",
            "========================================\n",
            "Volte sempre à CAIXA! Tenha um bom dia\n"
          ],
          "name": "stdout"
        }
      ]
    },
    {
      "cell_type": "markdown",
      "metadata": {
        "id": "lfREH23FbcjY",
        "colab_type": "text"
      },
      "source": [
        "\n",
        "\n",
        "---\n",
        "\n",
        "\n",
        "\n",
        "---\n",
        "\n"
      ]
    },
    {
      "cell_type": "markdown",
      "metadata": {
        "id": "WC5ESA21LFT3",
        "colab_type": "text"
      },
      "source": [
        "# Créditos"
      ]
    },
    {
      "cell_type": "markdown",
      "metadata": {
        "id": "uo9wvluB1HGt",
        "colab_type": "text"
      },
      "source": [
        "* Licença: Licença de atribuição Creative Commons (reutilização permitida)\n",
        "* Fontes: \n",
        " * Canal de Eduardo Mendes (https://youtu.be/yTQDbqmv8Ho) \n",
        " * Tradução do livro Pense em Python (2ª ed.), de Allen B. Downey (https://penseallen.github.io/PensePython2e/)"
      ]
    }
  ]
}